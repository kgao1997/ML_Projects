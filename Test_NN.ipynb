{
  "nbformat": 4,
  "nbformat_minor": 0,
  "metadata": {
    "colab": {
      "name": "Test_NN.ipynb",
      "provenance": [],
      "authorship_tag": "ABX9TyObuRt6I6lT72nvTBf+cSR9",
      "include_colab_link": true
    },
    "kernelspec": {
      "name": "python3",
      "display_name": "Python 3"
    },
    "language_info": {
      "name": "python"
    }
  },
  "cells": [
    {
      "cell_type": "markdown",
      "metadata": {
        "id": "view-in-github",
        "colab_type": "text"
      },
      "source": [
        "<a href=\"https://colab.research.google.com/github/kgao1997/ML_Projects/blob/main/Test_NN.ipynb\" target=\"_parent\"><img src=\"https://colab.research.google.com/assets/colab-badge.svg\" alt=\"Open In Colab\"/></a>"
      ]
    },
    {
      "cell_type": "code",
      "metadata": {
        "id": "wA9xxeuhg91p"
      },
      "source": [
        "# This is a test notebook as a brief refresher on using Neural Networks for classification purposes and how to build a neural network using Tensorflow from Scratch. \n",
        "# To start, we will use the MNIST starter from Colab documentation, modified. \n",
        "# This will also use other ML methods on the same dataset to compare performance. "
      ],
      "execution_count": 4,
      "outputs": []
    },
    {
      "cell_type": "code",
      "metadata": {
        "id": "A_Xy28VNhCf6"
      },
      "source": [
        "# Import basic libraries needed to build a neural network. \n",
        "import numpy as np \n",
        "import pandas as pd\n",
        "import tensorflow as tf\n",
        "import keras\n",
        "import keras_preprocessing"
      ],
      "execution_count": 3,
      "outputs": []
    },
    {
      "cell_type": "code",
      "metadata": {
        "id": "3FuVOiTShXFz"
      },
      "source": [
        "#Download and load in the MNIST data\n",
        "mnist = tf.keras.datasets.mnist\n",
        "(x_train, y_train), (x_test, y_test) = mnist.load_data()\n",
        "x_train = x_train/255.0\n",
        "x_test = x_test/255.0"
      ],
      "execution_count": 19,
      "outputs": []
    },
    {
      "cell_type": "code",
      "metadata": {
        "id": "rNpyNbFhkose"
      },
      "source": [
        "#Build a basic Sequential Keras model \n",
        "model = tf.keras.models.Sequential([\n",
        "  tf.keras.layers.Flatten(input_shape = (28, 28)), \n",
        "  tf.keras.layers.Dense(128, activation = 'relu'), \n",
        "  tf.keras.layers.Dropout(0.2), \n",
        "  tf.keras.layers.Dense(10)                                  \n",
        "])"
      ],
      "execution_count": 39,
      "outputs": []
    },
    {
      "cell_type": "code",
      "metadata": {
        "colab": {
          "base_uri": "https://localhost:8080/"
        },
        "id": "GFllg_t7mAX1",
        "outputId": "42b4d683-1e52-4596-a746-e4e667dbe797"
      },
      "source": [
        "#Check prediction on a untrained model\n",
        "model(x_train[:1]).numpy()"
      ],
      "execution_count": 40,
      "outputs": [
        {
          "output_type": "execute_result",
          "data": {
            "text/plain": [
              "array([[ 0.05895279,  0.42508057,  0.21921434, -0.16178025,  0.05919296,\n",
              "         0.4091237 ,  0.53520244, -0.27124047, -0.23475438, -0.23886153]],\n",
              "      dtype=float32)"
            ]
          },
          "metadata": {
            "tags": []
          },
          "execution_count": 40
        }
      ]
    },
    {
      "cell_type": "code",
      "metadata": {
        "id": "NU2Zqb3QmIys"
      },
      "source": [
        "#convert logits to actual prediction\n",
        "probs = tf.nn.softmax(predictions).numpy()"
      ],
      "execution_count": 41,
      "outputs": []
    },
    {
      "cell_type": "code",
      "metadata": {
        "id": "y252kN5FmeiZ"
      },
      "source": [
        "#set up a loss function\n",
        "loss_fn = tf.keras.losses.SparseCategoricalCrossentropy(from_logits = True)"
      ],
      "execution_count": 42,
      "outputs": []
    },
    {
      "cell_type": "code",
      "metadata": {
        "colab": {
          "base_uri": "https://localhost:8080/"
        },
        "id": "4shgsi9XmtOY",
        "outputId": "94e3969d-ddbe-431e-af78-40f163e8ac7f"
      },
      "source": [
        "#check initial loss \n",
        "loss_fn(y_train[:1], predictions).numpy()"
      ],
      "execution_count": 43,
      "outputs": [
        {
          "output_type": "execute_result",
          "data": {
            "text/plain": [
              "2.4416952"
            ]
          },
          "metadata": {
            "tags": []
          },
          "execution_count": 43
        }
      ]
    },
    {
      "cell_type": "code",
      "metadata": {
        "id": "GQ5mQbf4m6jh"
      },
      "source": [
        "#compile the model \n",
        "model.compile(optimizer = 'adam', \n",
        "              loss = loss_fn, \n",
        "              metrics = ['accuracy'])"
      ],
      "execution_count": 44,
      "outputs": []
    },
    {
      "cell_type": "code",
      "metadata": {
        "colab": {
          "base_uri": "https://localhost:8080/"
        },
        "id": "VGdAYXWtoCpH",
        "outputId": "0de666c9-31c5-4d4d-c34a-fe11374e8fd1"
      },
      "source": [
        "#debugging \n",
        "x_train.shape\n",
        "#y_train.shape"
      ],
      "execution_count": 45,
      "outputs": [
        {
          "output_type": "execute_result",
          "data": {
            "text/plain": [
              "(60000, 28, 28)"
            ]
          },
          "metadata": {
            "tags": []
          },
          "execution_count": 45
        }
      ]
    },
    {
      "cell_type": "code",
      "metadata": {
        "colab": {
          "base_uri": "https://localhost:8080/"
        },
        "id": "X3NFgDTZnG5D",
        "outputId": "844d537c-e064-483d-88cd-62b49e1299cf"
      },
      "source": [
        "#fit the model \n",
        "model.fit(x_train,y_train,epochs=5)"
      ],
      "execution_count": 46,
      "outputs": [
        {
          "output_type": "stream",
          "text": [
            "Epoch 1/5\n",
            "1875/1875 [==============================] - 3s 1ms/step - loss: 0.3021 - accuracy: 0.9122\n",
            "Epoch 2/5\n",
            "1875/1875 [==============================] - 2s 1ms/step - loss: 0.1469 - accuracy: 0.9560\n",
            "Epoch 3/5\n",
            "1875/1875 [==============================] - 2s 1ms/step - loss: 0.1087 - accuracy: 0.9663\n",
            "Epoch 4/5\n",
            "1875/1875 [==============================] - 2s 1ms/step - loss: 0.0902 - accuracy: 0.9721\n",
            "Epoch 5/5\n",
            "1875/1875 [==============================] - 3s 1ms/step - loss: 0.0777 - accuracy: 0.9757\n"
          ],
          "name": "stdout"
        },
        {
          "output_type": "execute_result",
          "data": {
            "text/plain": [
              "<tensorflow.python.keras.callbacks.History at 0x7fb679361750>"
            ]
          },
          "metadata": {
            "tags": []
          },
          "execution_count": 46
        }
      ]
    },
    {
      "cell_type": "code",
      "metadata": {
        "id": "tDuA-EEEnMLZ"
      },
      "source": [
        ""
      ],
      "execution_count": null,
      "outputs": []
    }
  ]
}